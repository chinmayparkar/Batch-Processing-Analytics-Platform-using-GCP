{
 "cells": [
  {
   "cell_type": "code",
   "execution_count": null,
   "metadata": {},
   "outputs": [],
   "source": [
    "from google.cloud import storage\n",
    "from oauth2client.client import GoogleCredentials\n",
    "import os\n",
    "from os import listdir\n",
    "\n",
    "os.environ['GOOGLE_APPLICATION_CREDENTIALS'] = \"/path/to/your/service account/key.json\"\n",
    "\n",
    "bucketName = \"bucket-name\"\n",
    "bucketFolder = 'processed_'\n",
    "localFolder = r\"/path/of/your/data/source/folder/\"\n",
    "\n",
    "storage_client = storage.Client()\n",
    "bucket = storage_client.get_bucket(bucketName)\n",
    "\n",
    "\n",
    "def upload_files(bucketName):\n",
    "    files = [f for f in listdir(localFolder)]\n",
    "    for file in files:\n",
    "        localFile = localFolder + file\n",
    "        blob = bucket.blob(bucketFolder + file)\n",
    "        blob.upload_from_filename(localFile)\n",
    "    return f'Uploaded {files} to \"{bucketName}\" bucket.'\n",
    "\n",
    "upload_files(bucketName)"
   ]
  }
 ],
 "metadata": {
  "kernelspec": {
   "display_name": "Python 3",
   "language": "python",
   "name": "python3"
  },
  "language_info": {
   "codemirror_mode": {
    "name": "ipython",
    "version": 3
   },
   "file_extension": ".py",
   "mimetype": "text/x-python",
   "name": "python",
   "nbconvert_exporter": "python",
   "pygments_lexer": "ipython3",
   "version": "3.7.3"
  }
 },
 "nbformat": 4,
 "nbformat_minor": 2
}
